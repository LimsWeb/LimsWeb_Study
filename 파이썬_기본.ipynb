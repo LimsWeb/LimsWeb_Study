{
 "cells": [
  {
   "cell_type": "markdown",
   "id": "65b8bf9a",
   "metadata": {},
   "source": [
    "# 프로그래밍 기본개념"
   ]
  },
  {
   "cell_type": "markdown",
   "id": "76712701",
   "metadata": {},
   "source": [
    "## 진법\n",
    "\n ㄴ 2진법 : 0과 1\n",
    "\n ㄴ 16진법 : 0 ~ 9 + A ~ F\n"
   ]
  },
  {
   "cell_type": "markdown",
   "id": "6c0fb140",
   "metadata": {},
   "source": [
    "인터프리터 : 프로그래밍 언어의 소스 코드를 바로 실행하는 컴퓨터 프로그램 또는 환경\n",
    "컴파일러 : 컴퓨터가 직접 이해할 수 있는 언어로 바꿔주는 작업\n",
    "            번역시간은 오래걸리지만 한번 번역 한 후 다시번역안함(빠름)"
   ]
  },
  {
   "cell_type": "markdown",
   "id": "0663b918",
   "metadata": {},
   "source": [
    "스크립트 : 에디터로 작성한 파이썬 프로그램 파일\n",
    "스크립트 언어 : 이미 만들어진 소프트웨어를 제어하기 위해 사용하는 언어\n",
    "                또한 파이썬 같은 스크립트 언어로 작성한 소스파일 통칭"
   ]
  },
  {
   "cell_type": "markdown",
   "id": "32327f3b",
   "metadata": {},
   "source": [
    "일반적인 프로그램 구조\n",
    "\n ㄴ 입력 - 처리 - 출력\n",
    "    의 세 단계"
   ]
  },
  {
   "cell_type": "markdown",
   "id": "86adaea4",
   "metadata": {},
   "source": [
    "# 파이썬기본개념"
   ]
  },
  {
   "cell_type": "markdown",
   "id": "5ad09170",
   "metadata": {},
   "source": [
    "## 주석달기\n",
    "\n",
    "\n",
    "'''여러줄 \n",
    "주석 \n",
    "달기'''\n",
    "\n",
    " 줄바꾸기\n",
    "\n  ㄴ   \\n\n",
    " 줄 바꾸기 금지\n",
    "\n  ㄴ  end = ''\n",
    "\n    ㄴ 기본적으로 print(end='\\n')이 지정된 상태인데 빈문자열을 \n",
    "\n        지정해서 \\n을 강제로 지워줌\n",
    " 간격 주기\n",
    "\n  ㄴ   \\t\n"
   ]
  },
  {
   "cell_type": "markdown",
   "id": "92b2d4c9",
   "metadata": {},
   "source": [
    "## 자료형\n",
    " 숫자형 : 정수(int), 실수(float), 복소수(complex)\n",
    " 문자형 : 문자형태 (str)\n",
    " "
   ]
  },
  {
   "cell_type": "code",
   "execution_count": 4,
   "id": "efe255ec",
   "metadata": {},
   "outputs": [
    {
     "name": "stdout",
     "output_type": "stream",
     "text": [
      "거리12\n",
      "7\n"
     ]
    }
   ],
   "source": [
    "floor = 0.2467\n",
    "distance = int(input(\"거리\"))\n",
    "a = 4.159\n",
    "\n",
    "tot = floor * distance + a\n",
    "print(int(tot))"
   ]
  },
  {
   "cell_type": "markdown",
   "id": "b65d8ded",
   "metadata": {},
   "source": [
    "## 변수(variable)\n",
    "\n ㄴ 값을 저장하는 상자(메모리)\n",
    "\n    x = 100  \n",
    "\n     오른쪽을 왼쪽에 담는다 의 개념\n",
    "\n      ㄴ 100이라는 값은 메모리내부에 할당된다\n",
    "\n        (객체 : object, 객체는 어떠한 속성값과 행동을 가지고 있는 데이터)  \n",
    "\n        \n",
    "\n    = 는 변수에 담기\n",
    "\n    == 은 같다\n",
    "\n    \n",
    "\n ㄴ변수명\n",
    "\n  ㄴ 의미 있는 이름사용\n",
    "\n  ㄴ 소문자와 대문자는 다른 취급\n",
    "\n  ㄴ 영문, 숫자, 밑줄 가능\n",
    "\n  ㄴ 변수 중간에 공백 안됨\n",
    "\n  ㄴ 규칙\n",
    "\n    ㄴ 영문자, 숫자사용\n",
    "\n    ㄴ 대소문자 구분\n",
    "\n    ㄴ 시작은 문자로\n",
    "\n    ㄴ 특수문자 안됨\n",
    "\n    ㄴ 예약어(키워드)는 사용 불가\n",
    "\n    \n",
    "\n  ㄴ 낙타case : myNewCar 여러단어 사용시 새로시작하는 단어첫글자는 대문자 \n",
    "\n  ㄴ 스네이크case : snake_case처럼 단어가 합쳐지는 부분마다 _(언더라인) 붙이는 방법\n",
    "  \n",
    "\n  ㄴ 빈변수 만들기 : None\n",
    "\n   None == 아무것도 없는 상태\n",
    "\n    다른 언어에서는 null로 표현됨\n",
    "    "
   ]
  },
  {
   "cell_type": "markdown",
   "id": "6fd439a5",
   "metadata": {},
   "source": [
    "## input\n",
    "\n  ㄴ입력한 값 변수에 대입\n",
    "\n    ㄴ 변수명 = input()\n",
    "\n",
    "\nkor, math, eng, sci = map(int, input(\"국영수사\").split())\n",
    "\n ㄴ map은 한꺼번에 정수로 변환해주기 위해 사용\n",
    "\n ㄴ.split()은 여려개 변수를 저장하기 위해 사용 \n",
    "\n ㄴ sep = 값 사이에 문자 넣기 (seperate)\n"
   ]
  },
  {
   "cell_type": "markdown",
   "id": "ab0a50c6",
   "metadata": {},
   "source": [
    "### ASCII( American Standard Code for Information Interchage)\n",
    "\n ㄴ ANSI(미국 표준 협회) 에서 제정한 문자 표현방식\n",
    "\n ㄴ 컴퓨터마다 문자를 표현하는 방식을 통일하여 혼란을 방지\n",
    "\n",
    "### 유니코드\n",
    "\n ㄴ 숫자와 글자, 키와 값이 1:1로 맵핑된 형태의 코드\n",
    "\n    ㄴ uft-8 은 유니코드를 위한 가변길이 문자 인코딩 방식 중 하나"
   ]
  },
  {
   "cell_type": "markdown",
   "id": "c5260db6",
   "metadata": {},
   "source": [
    "## Boolean(불리언 : 참, 거짓 )\n",
    "\n ㄴ 값의 일종으로 참(True) 또는 거짓(False)로 표현\n",
    "\n    ㄴ 맞으면 True, 틀리면 False\n",
    "\n      ㄴ True = 1, False = 0\n",
    "    \n",
    "\n == 과 != 값 자체를 비교하고\n",
    "\n  ㄴ 값(숫자)를 비교할때는 비교 연산자를 사용\n",
    " \n",
    "\n is, is not 은 객체(object)를 비교한다\n",
    "    \n",
    "\n 비교연산자(is, is not, ==, !=, <,>)를 먼저 판단하고\n",
    "\n 논리연산자를 판단함(not, and, or)\n",
    "\n",
    "#단락평가\n",
    "\n ㄴ 첫번째 값 만으로 결과가 확실할 때 뒤는 평가하지 않는 방법\n",
    "\n    ㄴ True and 'Python' 은 True and True이나 마지막 평가한 값을\n",
    "\n      그대로 반환하여 Python이 됨(무조건 bool을 반환하지 않음)"
   ]
  },
  {
   "cell_type": "markdown",
   "id": "54b515cc",
   "metadata": {},
   "source": [
    "## 리스트\n",
    "\n ㄴ [ ] 대괄호를 묶어서 생성하며 ,(콤마)로 각 값(element)을 구분\n",
    "\n ㄴ 모든 자료형(문자열, 정수, 실수, 불) 저장할수 있으며 섞을수도있음\n",
    "\n  ㄴ 빈리스트는  a = [ ] 또는 b =list() 로 만들 수 있음\n",
    " "
   ]
  },
  {
   "cell_type": "markdown",
   "id": "62b2fa45",
   "metadata": {},
   "source": [
    "### range \n",
    "\n ㄴ 연속된 숫자를 생성하는 방법\n",
    "\n  ㄴ range(시작, 끝, 간격)\n",
    "\n   ㄴ 0부터 시작되므로 끝-1 숫자까지 나옴\n",
    "\n    ㄴ 예)  a = list(range(0, 10)), b = tuple(range(5,12))"
   ]
  },
  {
   "cell_type": "markdown",
   "id": "c39be4ae",
   "metadata": {},
   "source": [
    "## 튜플\n",
    " ㄴ () 괄호로 생성하며 ,(콤마)로 구분됨. \n",
    "  ㄴ 괄호로 묶지 않아도 값만 콤마로 구분해도 튜플이됨\n",
    " ㄴ 리스트와 달리 저장요소를 변경,추가,삭제 불가능(읽기전용이라는말)"
   ]
  },
  {
   "cell_type": "code",
   "execution_count": 9,
   "id": "f8b05ca3",
   "metadata": {},
   "outputs": [
    {
     "name": "stdout",
     "output_type": "stream",
     "text": [
      "<class 'tuple'> (4, 5, 6)\n",
      "<class 'list'> [4, 5, 6]\n"
     ]
    }
   ],
   "source": [
    "a = 4,5,6\n",
    "print(type(a),a)\n",
    "\n",
    "b = list(a)\n",
    "print(type(b),b)"
   ]
  },
  {
   "cell_type": "markdown",
   "id": "d6e56641",
   "metadata": {},
   "source": [
    "### 패킹과 언패킹\n",
    " 패킹 : 하나의 변수에 여러값을 넣는 것 : test = 1, 3, 9\n",
    "언패킹 : 여러개의 변수에 하나의 값을 넣는 것 : a, b, c, = test"
   ]
  },
  {
   "cell_type": "markdown",
   "id": "dcefcd89",
   "metadata": {},
   "source": [
    "## 시퀀스 자료형\n",
    " ㄴ 값이 연속적(sequence)으로 이어진 자료형 \n",
    "   ㄴ 리스트, 튜플, range, 문자열"
   ]
  },
  {
   "cell_type": "markdown",
   "id": "6a619d4b",
   "metadata": {},
   "source": [
    "###요소개수 구하기(len)\n",
    " ㄴ len(시퀀스객체)"
   ]
  },
  {
   "cell_type": "markdown",
   "id": "02866cdd",
   "metadata": {},
   "source": [
    "## 인덱스\n",
    " ㄴ b[0] 으로 인덱스를 지정하여 해당요소를 가져오는 방법\n",
    " ㄴ 음수 인덱스는 거꾸로 지정됨(-1은 맨 마지막)\n",
    "\n",
    " ㄴ 범위를 벗어나면\n",
    "    Index Error : list index out of range\n",
    "         라고 오류가 발생함\n",
    "            \n",
    " ㄴ 리스트나 튜플의 길이는 인덱스가 아니다(-1해줘야 한다)\n",
    "   ㄴ예)  a[len(a) -1]\n",
    "    \n",
    " ㄴ 요소에 값 할당하기\n",
    "  ㄴ 예)\n",
    "    a  = [0, 0, 0, 0, 0]\n",
    "    a[0] = 38\n",
    "    a[1] = 21\n",
    "    ... 할당하면\n",
    "    리스트에 들어감\n",
    "    \n",
    "    a[0] = 38 이 됨"
   ]
  },
  {
   "cell_type": "markdown",
   "id": "28fa459b",
   "metadata": {},
   "source": [
    "### del\n",
    " ㄴ 시퀀스 객체 요소 삭제 : del\n",
    "    ㄴ  del a[2]\n",
    "    \n",
    "### 슬라이스\n",
    " ㄴ 일부를 잘라내는 것\n",
    "    ㄴ 시퀀스객체[ 시작 : 끝 : 폭 ]\n",
    "    ㄴ a[ 0 : len(a)]  로 len을 응용해서 리스트전체를 가져올수 있음\n",
    " ㄴ range객체를 리스트로 만들려면 list에 넣어야함\n",
    "    ㄴ list(r[ :7 : 2])\n",
    "    \n",
    " ㄴ 슬라이스에 요소 할당 가능\n",
    "    ㄴ a[2:5] = ['a','b','c']\n",
    "       ㄴ 개수를 맞추지 않아도 알아서 할당됨\n",
    "    "
   ]
  },
  {
   "cell_type": "code",
   "execution_count": 13,
   "id": "7058b591",
   "metadata": {},
   "outputs": [
    {
     "data": {
      "text/plain": [
       "[1, 2, 4, 5]"
      ]
     },
     "execution_count": 13,
     "metadata": {},
     "output_type": "execute_result"
    }
   ],
   "source": [
    "a = 1,2,3,4,5\n",
    "b = list(a)\n",
    "del b[2]\n",
    "b"
   ]
  },
  {
   "cell_type": "markdown",
   "id": "babd855d",
   "metadata": {},
   "source": [
    "## 딕셔너리\n",
    "\n ㄴ키(key)와 값(value)으로 구성된 자료형, \n",
    "\n    ㄴ {키 : 값, 키 : 값}으로 생성\n",
    "\n      ㄴ만드는 방법\n",
    "\n       ㄴ 딕셔너리 = dict(zip([키1,키2], [값1,값2]))\n",
    "        \n",
    "\n        ㄴ 딕셔너리 = dict(키1= 값1, 키2=값2)\n",
    "\n          ㄴ 리스트를 차례대로 zip에 넣은뒤 다시 dict에 넣기\n",
    "\n            \n",
    "\n        ㄴ 딕셔너리 = dict([(키1,값1), (키2,값2)]) \n",
    "\n          ㄴ 리스트 안에 (키,값)형식의 튜플나열\n",
    "            \n",
    "\n        ㄴ 딕셔너리 = dict({키1 : 값1 ,키2 : 값2 })\n",
    "\n          ㄴ dict 안에서 중괄호로 딕셔너리를 생성\n",
    "\n",
    "\n    ㄴ 값마다 이름을 붙여서 저장하는 방식\n",
    "    \n",
    "\n    ㄴ 중복 값은 맨 마지막 값이 나옴\n",
    "\n     ㄴ 키(key) : 문자열, 정수, 실수, 불 등 섞어서 사용가능 \n",
    "\n            ㄴ 키에는 리스트, 딕셔너리를 쓸수 없음\n",
    "\n     ㄴ 값(value) : 리스트, 딕셔너리 등을 포함 모든 자료형 사용 가능\n",
    "        \n",
    "\n    ㄴ lux['health'] = 2037\n",
    "\n      ㄴ위처럼 값을 변경해주거나, 할당할 수 있음\n",
    "        \n",
    "\n    ㄴ 없는 키에 값을 할당하면 키가 추가됨(값도 할당)\n",
    "    \n",
    "\n    ㄴ update() 여러개를 한번에 추가하기 위해 사용\n",
    "\n        ㄴ dictionary.update({\"key4\" : \"value4\"})\n",
    "        \n",
    "\n    ㄴ len(lux) 로 키 개수를 구할 수 있음"
   ]
  },
  {
   "cell_type": "markdown",
   "id": "76a53408",
   "metadata": {},
   "source": [
    "## 객체\n",
    "\n ㄴ 객체\n",
    "\n   ㄴ 메모리에 주소값이 저장되어 할당되는 공간\n",
    "\n   ㄴ 어떠한 속성값과 행동을 가지고 있는 데이터\n",
    "    \n",
    "\n   ㄴ 특성\n",
    "\n    ㄴvalue : 메모리에 저장된 값\n",
    "\n    ㄴtype : 객체의 데이터 타입(type())\n",
    "\n    ㄴidentity : 객체의 ID(일종의 메모리 주소), (id(), a is b)\n",
    "        \n",
    "\n   ㄴ 가변객체\n",
    "\n    ㄴ 변할 수 있는 객체 : list, dict, set ...\n",
    "\n   ㄴ 불변객체\n",
    "\n    ㄴ 변하지 않는 객체 : tuple, str, int, float ..."
   ]
  },
  {
   "cell_type": "markdown",
   "id": "2fa3ddbb",
   "metadata": {},
   "source": [
    "## if 조건문"
   ]
  },
  {
   "cell_type": "code",
   "execution_count": null,
   "id": "416df28e",
   "metadata": {},
   "outputs": [],
   "source": [
    "\n ㄴ 조건에 맞게 실행되는 코드\n",
    "\n    ㄴ 끝에 : 필수, 들여쓰기 필수(tap으로 고정하자)\n",
    "\n ㄴ if x => 10 : \n",
    "\n        print(\"10보다 큼\")\n",
    "\n        if x=> 15 : # 중첩 if문 가능\n",
    "\n            print(\"15보다 큼\")\n",
    "\n    elif x => 20 : \n",
    "\n        print(\"20보다 큼\")\n",
    "\n    else :\n",
    "\n        print(\"기타\")\n",
    "        \n",
    "\n    ㄴ pass를 통해 지나갈수도 있음\n",
    "\n",
    "\n ㄴ True 는 if 코드, False(None포함) 는 else 코드가 실행됨"
   ]
  },
  {
   "cell_type": "markdown",
   "id": "027aa71d",
   "metadata": {},
   "source": [
    "## for 반복문"
   ]
  },
  {
   "cell_type": "code",
   "execution_count": null,
   "id": "6694c40d",
   "metadata": {},
   "outputs": [],
   "source": [
    "\n",
    " \n",
    "count = int(input('반복횟수 :'))\n",
    "\n ㄴ for i in range(count) : \n",
    "\n        반복내용\n",
    "\n    ㄴ 손쉽게 반복할 내용입력\n",
    "\n      ㄴ range()에서 하나하나 꺼내서 반복하는 방식\n",
    "\n        ㄴ range()에서 꺼낸 후 변수 i에 저장되며, 반복할 코드에서 사용가능\n",
    "\n        ㄴ ragne()에 증가폭 지정 가능\n",
    "\n    ㄴ i는 다른 변수명도됨, 끝에 : 필수\n",
    "        "
   ]
  },
  {
   "cell_type": "code",
   "execution_count": 2,
   "id": "c7f0fef6",
   "metadata": {},
   "outputs": [
    {
     "name": "stdout",
     "output_type": "stream",
     "text": [
      "시작, 끝, 폭 :1 100 10\n",
      "1 11 21 31 41 51 61 71 81 91 "
     ]
    }
   ],
   "source": [
    "'''\n",
    "start = int(input('시작 수 :'))\n",
    "end = int(input('끝 수 :'))\n",
    "depth = int(input('폭 :'))\n",
    "'''\n",
    "start, end, depth = map(int, input('시작, 끝, 폭 :').split())\n",
    "\n",
    "for i in range(start, end+1, depth) :\n",
    "    print(i, end=' ')\n",
    "    "
   ]
  },
  {
   "cell_type": "code",
   "execution_count": 21,
   "id": "5d1c0f99",
   "metadata": {
    "scrolled": true
   },
   "outputs": [
    {
     "name": "stdout",
     "output_type": "stream",
     "text": [
      "2 단\n",
      "2 * 1 = 2\n",
      "2 * 2 = 4\n",
      "2 * 3 = 6\n",
      "2 * 4 = 8\n",
      "2 * 5 = 10\n",
      "2 * 6 = 12\n",
      "2 * 7 = 14\n",
      "2 * 8 = 16\n",
      "2 * 9 = 18\n",
      "---------\n",
      "3 단\n",
      "3 * 1 = 3\n",
      "3 * 2 = 6\n",
      "3 * 3 = 9\n",
      "3 * 4 = 12\n",
      "3 * 5 = 15\n",
      "3 * 6 = 18\n",
      "3 * 7 = 21\n",
      "3 * 8 = 24\n",
      "3 * 9 = 27\n",
      "---------\n",
      "4 단\n",
      "4 * 1 = 4\n",
      "4 * 2 = 8\n",
      "4 * 3 = 12\n",
      "4 * 4 = 16\n",
      "4 * 5 = 20\n",
      "4 * 6 = 24\n",
      "4 * 7 = 28\n",
      "4 * 8 = 32\n",
      "4 * 9 = 36\n",
      "---------\n",
      "5 단\n",
      "5 * 1 = 5\n",
      "5 * 2 = 10\n",
      "5 * 3 = 15\n",
      "5 * 4 = 20\n",
      "5 * 5 = 25\n",
      "5 * 6 = 30\n",
      "5 * 7 = 35\n",
      "5 * 8 = 40\n",
      "5 * 9 = 45\n",
      "---------\n",
      "6 단\n",
      "6 * 1 = 6\n",
      "6 * 2 = 12\n",
      "6 * 3 = 18\n",
      "6 * 4 = 24\n",
      "6 * 5 = 30\n",
      "6 * 6 = 36\n",
      "6 * 7 = 42\n",
      "6 * 8 = 48\n",
      "6 * 9 = 54\n",
      "---------\n",
      "7 단\n",
      "7 * 1 = 7\n",
      "7 * 2 = 14\n",
      "7 * 3 = 21\n",
      "7 * 4 = 28\n",
      "7 * 5 = 35\n",
      "7 * 6 = 42\n",
      "7 * 7 = 49\n",
      "7 * 8 = 56\n",
      "7 * 9 = 63\n",
      "---------\n",
      "8 단\n",
      "8 * 1 = 8\n",
      "8 * 2 = 16\n",
      "8 * 3 = 24\n",
      "8 * 4 = 32\n",
      "8 * 5 = 40\n",
      "8 * 6 = 48\n",
      "8 * 7 = 56\n",
      "8 * 8 = 64\n",
      "8 * 9 = 72\n",
      "---------\n",
      "9 단\n",
      "9 * 1 = 9\n",
      "9 * 2 = 18\n",
      "9 * 3 = 27\n",
      "9 * 4 = 36\n",
      "9 * 5 = 45\n",
      "9 * 6 = 54\n",
      "9 * 7 = 63\n",
      "9 * 8 = 72\n",
      "9 * 9 = 81\n",
      "---------\n"
     ]
    }
   ],
   "source": [
    "for dan in range(2,10):\n",
    "    print(dan,\"단\",)\n",
    "    for line in range(1,10):\n",
    "        print(dan,\"*\",line, \"=\", dan*line, end = '\\n')\n",
    "\n",
    "    print(\"-\"*9)"
   ]
  },
  {
   "cell_type": "markdown",
   "id": "99b81922",
   "metadata": {},
   "source": [
    "## while 반복문"
   ]
  },
  {
   "cell_type": "code",
   "execution_count": null,
   "id": "dc8a08f0",
   "metadata": {},
   "outputs": [],
   "source": [
    "\n",
    " ㄴ 조건식이 참(True)이면 반복할 코드와 변화식을 수행함\n",
    "    ㄴ 조건식이 거짓(False)이면 반복문을 끝내고 다음코드 실행\n",
    " ㄴ 초기식 : i = 0\n",
    " ㄴ 조건식 : while i < 100 :\n",
    "        ㄴ 반복할 코드 : print(\"hello world\")\n",
    "        ㄴ 변화식 : i += 1"
   ]
  },
  {
   "cell_type": "code",
   "execution_count": 28,
   "id": "0d2771c3",
   "metadata": {
    "scrolled": true
   },
   "outputs": [
    {
     "name": "stdout",
     "output_type": "stream",
     "text": [
      "힘내! 1\n",
      "힘내! 2\n",
      "힘내! 3\n",
      "힘내! 4\n",
      "힘내! 5\n",
      "힘내! 6\n",
      "힘내! 7\n",
      "힘내! 8\n",
      "힘내! 9\n",
      "힘내! 10\n"
     ]
    }
   ],
   "source": [
    "\n",
    "i = 1 \n",
    "while i <= 10 :\n",
    "    print(\"힘내!\", i)\n",
    "    i += 1\n"
   ]
  },
  {
   "cell_type": "code",
   "execution_count": 29,
   "id": "c819d7f5",
   "metadata": {},
   "outputs": [
    {
     "name": "stdout",
     "output_type": "stream",
     "text": [
      "1  2  3  4  5  6  7  8  9  10  "
     ]
    }
   ],
   "source": [
    "i = 1 \n",
    "while i <= 10 :\n",
    "    print(i, end = \"  \")\n",
    "    i += 1\n"
   ]
  },
  {
   "cell_type": "code",
   "execution_count": null,
   "id": "4373810d",
   "metadata": {},
   "outputs": [],
   "source": [
    "#난수(random)\n",
    "\n",
    " ㄴ import random\n",
    "    ㄴ random.random() \n",
    "      ㄴ 0.0 <= random.random() < 1.0\n",
    "        "
   ]
  },
  {
   "cell_type": "code",
   "execution_count": 3,
   "id": "55e0270c",
   "metadata": {},
   "outputs": [
    {
     "name": "stdout",
     "output_type": "stream",
     "text": [
      "[22, 22, 15, 11, 13, 18]\n",
      "101\n"
     ]
    }
   ],
   "source": [
    "import random\n",
    "\n",
    "cnt_rand = [0,0,0,0,0,0]\n",
    "\n",
    "i = 0\n",
    "while i <= 100 :\n",
    "    rand = int(random.random()*10 %6)\n",
    "    #print(rand, end=\"/\")\n",
    "\n",
    "    cnt_rand[rand-1] += 1\n",
    "    i += 1\n",
    "    \n",
    "#    print(cnt_rand)\n",
    "#    print(\"-\"*20)\n",
    "print(cnt_rand)\n",
    "\n",
    "nTot = 0\n",
    "for i in cnt_rand :\n",
    "    nTot += i\n",
    "    \n",
    "print(nTot)"
   ]
  },
  {
   "cell_type": "code",
   "execution_count": 5,
   "id": "87ba0964",
   "metadata": {},
   "outputs": [
    {
     "name": "stdout",
     "output_type": "stream",
     "text": [
      "4\n",
      "6\n",
      "6\n",
      "3\n",
      "4\n",
      "2\n",
      "6\n",
      "6\n",
      "1\n",
      "3\n",
      "2\n",
      "101\n"
     ]
    }
   ],
   "source": [
    "import random\n",
    "\n",
    "i = 0 \n",
    "while i <= 10 :\n",
    "    print(random.randint(1,6))\n",
    "    i += 1\n",
    "    \n",
    "nTot = 0\n",
    "\n",
    "for i in cnt_rand :\n",
    "    nTot += i\n",
    "    \n",
    "print(nTot)"
   ]
  },
  {
   "cell_type": "code",
   "execution_count": 14,
   "id": "c8cc5fbf",
   "metadata": {},
   "outputs": [
    {
     "name": "stdout",
     "output_type": "stream",
     "text": [
      "0  : 1\n",
      "1  : 2\n",
      "3  : 3\n",
      "6  : 4\n",
      "10  : 5\n",
      "15  : 6\n",
      "21  : 7\n",
      "28  : 8\n",
      "36  : 9\n",
      "45  : 10\n",
      "55  : 11\n",
      "66  : 12\n",
      "78  : 13\n",
      "91  : 14\n",
      "105  : 15\n",
      "120  : 16\n",
      "136  : 17\n",
      "153  : 18\n",
      "171  : 19\n",
      "190  : 20\n",
      "210  : 21\n",
      "231  : 22\n",
      "253  : 23\n",
      "276  : 24\n",
      "300  : 25\n",
      "325  : 26\n",
      "351  : 27\n",
      "378  : 28\n",
      "406  : 29\n",
      "435  : 30\n",
      "465  : 31\n",
      "496  : 32\n",
      "528  : 33\n",
      "561  : 34\n",
      "595  : 35\n",
      "630  : 36\n",
      "666  : 37\n",
      "703  : 38\n",
      "741  : 39\n",
      "780  : 40\n",
      "820  : 41\n",
      "861  : 42\n",
      "903  : 43\n",
      "946  : 44\n",
      "990  : 45\n",
      "1035  : 46\n",
      "1081  : 47\n",
      "1128  : 48\n",
      "1176  : 49\n",
      "1225  : 50\n",
      "1275  : 51\n",
      "1326  : 52\n",
      "1378  : 53\n",
      "1431  : 54\n",
      "1485  : 55\n",
      "1540  : 56\n",
      "1596  : 57\n",
      "1653  : 58\n",
      "1711  : 59\n",
      "1770  : 60\n",
      "1830  : 61\n",
      "1891  : 62\n",
      "1953  : 63\n",
      "2016  : 64\n",
      "2080  : 65\n",
      "2145  : 66\n",
      "2211  : 67\n",
      "2278  : 68\n",
      "2346  : 69\n",
      "2415  : 70\n",
      "2485  : 71\n",
      "2556  : 72\n",
      "2628  : 73\n",
      "2701  : 74\n",
      "2775  : 75\n",
      "2850  : 76\n",
      "2926  : 77\n",
      "3003  : 78\n",
      "3081  : 79\n",
      "3160  : 80\n",
      "3240  : 81\n",
      "3321  : 82\n",
      "3403  : 83\n",
      "3486  : 84\n",
      "3570  : 85\n",
      "3655  : 86\n",
      "3741  : 87\n",
      "3828  : 88\n",
      "3916  : 89\n",
      "4005  : 90\n",
      "4095  : 91\n",
      "4186  : 92\n",
      "4278  : 93\n",
      "4371  : 94\n",
      "4465  : 95\n",
      "4560  : 96\n",
      "4656  : 97\n",
      "4753  : 98\n",
      "4851  : 99\n",
      "4950  : 100\n",
      "5050  : 101\n",
      "5050\n"
     ]
    }
   ],
   "source": [
    "tot = 0\n",
    "\n",
    "i = 0\n",
    "while True :\n",
    "    tot += i\n",
    "    i += 1\n",
    "    print(tot,\" :\",i)\n",
    "    if i == 101 :\n",
    "        break\n",
    "        \n",
    "print(tot)"
   ]
  },
  {
   "cell_type": "code",
   "execution_count": 3,
   "id": "b29b0978",
   "metadata": {},
   "outputs": [
    {
     "name": "stdout",
     "output_type": "stream",
     "text": [
      "3 13 23 33 43 53 63 73 "
     ]
    }
   ],
   "source": [
    "i = 0\n",
    "\n",
    "while True :\n",
    "    if i % 10 != 3 :\n",
    "        i += 1\n",
    "        continue\n",
    "        \n",
    "    if i > 74 :\n",
    "        break\n",
    "        \n",
    "    print(i, end = ' ')\n",
    "    i += 1\n",
    "    "
   ]
  },
  {
   "cell_type": "code",
   "execution_count": 21,
   "id": "55452964",
   "metadata": {},
   "outputs": [
    {
     "name": "stdout",
     "output_type": "stream",
     "text": [
      "*****\n",
      "*****\n",
      "*****\n",
      "*****\n",
      "*****\n",
      "----------\n",
      "*    \n",
      " *   \n",
      "  *  \n",
      "   * \n",
      "    *\n"
     ]
    }
   ],
   "source": [
    "for line in range(5) :\n",
    "    for star in range(5) :\n",
    "        print (\"*\", end = \"\")\n",
    "    print()\n",
    "\n",
    "print(\"-\"*10)\n",
    "\n",
    "for line in range(5) :\n",
    "    for star in range(5) :\n",
    "        if line == star :\n",
    "            print (\"*\", end = \"\")\n",
    "        else :\n",
    "            print (\" \", end = \"\")\n",
    "            \n",
    "    print()\n",
    "        "
   ]
  },
  {
   "cell_type": "code",
   "execution_count": 29,
   "id": "63a3e45c",
   "metadata": {},
   "outputs": [
    {
     "name": "stdout",
     "output_type": "stream",
     "text": [
      "점수 5명 :70 52 98 82 85\n",
      "79.0\n"
     ]
    }
   ],
   "source": [
    "Scores = list(map(int,input(\"점수 5명 :\").split()))\n",
    "\n",
    "tot = 0\n",
    "\n",
    "for i in Scores :\n",
    "    tot += i\n",
    "    \n",
    "largest = 0\n",
    "for i in Scores :\n",
    "    if i > largest :\n",
    "        largest = i\n",
    "        \n",
    "smallest = 100\n",
    "for i in Scores :\n",
    "    if i < smallest :\n",
    "        smallest = i\n",
    "        \n",
    "avg = (tot-largest-smallest) / (len(Scores)-2)\n",
    "\n",
    "print(avg)"
   ]
  },
  {
   "cell_type": "markdown",
   "id": "fef8f213",
   "metadata": {},
   "source": [
    "### 리스트와 튜플 응용하기\n",
    "\n",
    "   append : 요소추가\n",
    "       빈 리스트에 값 추가도 가능\n",
    "       append에는 리스트를 또 넣을수 있다\n",
    "\n",
    "   extend : 리스트 끝에 다른리스트 연결(붙임)\n",
    "        리스트를 확장함\n",
    "\n",
    "   insert : 특정 인덱스에 요소 하나 추가\n",
    "       원하는 위치에 삽입할 수 있어 유용하다\n",
    "       insert에 마지막 인덱스보다 큰 값을 지정하면\n",
    "           리스트 끝에 요소 하나를 추가할수 있다.\n",
    "\n",
    "   pop : 마지막 또는 특정 인덱스 요소 삭제\n",
    "       그냥 빈괄호()는  : 마지막 삭제\n",
    "       해당 인덱스를 찾아 삭제 (del과 같다)\n",
    "           입력예 : a.pop(1) ==(같다) dela[1]\n",
    "\n",
    "   remove : 특정 값을 찾아서 삭제\n",
    "       값이 여러개일 때 처음 찾은 값을 삭제\n",
    "\n",
    "   스택구조 : 만원버스처럼 먼저들어가서 늦게 나오고, \n",
    "               늦게가면 먼저나오고\n",
    "               선입선출의 반대다\n",
    "        LIFO : Last in First out\n",
    "        FILO : First in Last out\n",
    "            \n",
    "   ## 스택\n",
    "    \n",
    "   큐(queue) = 먼저들어간게 먼저나오는 (선입선출)\n",
    "     ㄴappend로 맨 끝에 추가하고\n",
    "     ㄴpop의 맨 앞에서 꺼내는것"
   ]
  },
  {
   "cell_type": "markdown",
   "id": "c57192b9",
   "metadata": {},
   "source": [
    "### 백업\n",
    "   a는 요소 다섯개를 가진 리스트의 객체를 가리키고\n",
    "   b는 a의 주소인 똑같은 객체를 가리킨다\n",
    "    \n",
    "   파이썬에서 백업을 하기 위해서는\n",
    "   특정 메소드를 사용해야 한다.\n",
    "   b = a.copy()\n",
    "copy한 값은 같지만 객체는 다르다\n",
    "enumerate : index번호와 index값을 반환하는 함수\n",
    "    for 인덱스, 요소 in enmerate(리스트, start=숫자)"
   ]
  },
  {
   "cell_type": "code",
   "execution_count": 30,
   "id": "b4c6775b",
   "metadata": {},
   "outputs": [
    {
     "name": "stdout",
     "output_type": "stream",
     "text": [
      "[2, 4, 6, 8, 10, 12, 14, 16, 18, 3, 6, 9, 12, 15, 18, 21, 24, 27, 4, 8, 12, 16, 20, 24, 28, 32, 36, 5, 10, 15, 20, 25, 30, 35, 40, 45, 6, 12, 18, 24, 30, 36, 42, 48, 54, 7, 14, 21, 28, 35, 42, 49, 56, 63, 8, 16, 24, 32, 40, 48, 56, 64, 72, 9, 18, 27, 36, 45, 54, 63, 72, 81]\n"
     ]
    }
   ],
   "source": [
    "a = [i*j for j in range(2,10) for i in range(1,10)]\n",
    "print(a)"
   ]
  },
  {
   "cell_type": "markdown",
   "id": "c08cbaf1",
   "metadata": {},
   "source": [
    "##함수"
   ]
  },
  {
   "cell_type": "code",
   "execution_count": null,
   "id": "53362c96",
   "metadata": {},
   "outputs": [],
   "source": [
    " ㄴ 특정 용도의 코드를 한곳으로 모아 놓은 것\n",
    "    ㄴ print, input 과 같이 미리 만들어둘수도있음\n",
    "    def 함수이름(매개변수 a, 매개변수 b) :\n",
    "        return 코드 : print(a +b)\n",
    "            ㄴ 함수 안에서 return을 사용하면 함수 바깥으로 반환함\n",
    "                (지정하지 않으면 None을 반환)\n",
    "    add(10, 20)  : 10과 20은 인수\n",
    "        \n",
    "    #람다(lambda)\n",
    "      ㄴ (lambda 매개변수들 : 식)(인수들)\n",
    "          lambda x: x + 10\n",
    "      ㄴ lambda 표현식 밖에 있는 변수는 사용할 수 있음,\n",
    "      ㄴ 변수가 필요한 경우 def로 함수를 작성하는 것이 좋음"
   ]
  },
  {
   "cell_type": "code",
   "execution_count": null,
   "id": "111d254d",
   "metadata": {},
   "outputs": [],
   "source": [
    " ##filter\n",
    "    반복 가능한 객체에서 특정 조건에 맞는 요소만 가져오는데,\n",
    "    반환값이 True일 때만 해당 요소를 가져옴\n",
    "    def f(x) :\n",
    "        return x > 5 and x < 10 \n",
    "    a = [ 3, 5.6 , 7, 8, 11]\n",
    "    list(filter(f,a))\n",
    "    \n",
    "    \n",
    " ##map\n",
    "    list(map(lambda x: str(x) \n",
    "             if x==1 else float(x) \n",
    "             if x == 2 \n",
    "             else x+10,a)\n",
    " ##reduce\n",
    "    반복가능한 객체의 각 요소를 함수로 처리한뒤 이전결과와 누적후 반환\n",
    "    ㄴ def f(x,y) :\n",
    "         return x+y\n",
    "         \n",
    "       a = [1,2,3,4,5]\n",
    "       from functools import reduce\n",
    "        reduce(f,a)\n",
    "         15\n",
    "         \n",
    "         "
   ]
  },
  {
   "cell_type": "code",
   "execution_count": null,
   "id": "800be379",
   "metadata": {},
   "outputs": [],
   "source": [
    "#클로저\n",
    " ㄴ 함수를 둘러싼 환경(지역변수, 코드 등)을 계속 유지하다가, 함수를\n",
    "    호출할 때 다시 꺼내서 사용하는 함수\n",
    "    ㄴ 클로저는 어떤 함수 내 중첩된 함수여야 함\n",
    "    \n",
    " ㄴ 전역 변수 : 스크립트 전체에서 접근 할 수 있는 변수\n",
    " ㄴ 지역 변수 : 특정 구역(함수) 내에서 적용되는 변수\n",
    "    ㄴ 함수 등 밖에서 사용시 오류 발생함\n",
    "    ㄴ nonlocal : 현재 함수의 바깥쪽에 있는 지역변수를 찾는방법\n",
    "                 가장 가까운 함수부터 찾음\n",
    "            \n",
    "    def calc() :\n",
    "        a = 3\n",
    "        b = 5\n",
    "        def myl_add(x) :\n",
    "            return a * x + b\n",
    "    return mul_add\n",
    "\n",
    "\n",
    "    c = calc()\n",
    "    print(c(1),c(2),c(3),c(4),c(5))\n",
    "    "
   ]
  },
  {
   "cell_type": "code",
   "execution_count": null,
   "id": "71b60c6c",
   "metadata": {},
   "outputs": [],
   "source": [
    "# 텍스트 파일 입력\n",
    " inFp = open(\"경로/.txt\", \"r\", encoding=\"utf-8\")\n",
    " inStr = inFp.readlines()\n",
    " print(inStr, end=\"\")\n",
    " inFp.close()\n",
    "\n",
    "# 텍스트 파일 출력\n",
    "\n",
    " outFp = None\n",
    " outStr = \"\"\n",
    "\n",
    " outFp = open(\"data2.txt\", \"w\", encoding=\"utf-8\")\n",
    "\n",
    " while True :\n",
    "    outStr = input(\"내용입력 :\")\n",
    "    if outStr != \"\":\n",
    "        outFp.wirte(outStr + \"\\n\")\n",
    "        \n",
    "    else :\n",
    "        break\n",
    " outFp,close()\n",
    " print(\"--- 정상적으로 작성됨 ---\")\n",
    "        "
   ]
  },
  {
   "cell_type": "markdown",
   "id": "ca66ddda",
   "metadata": {},
   "source": [
    "## Tkinter\n",
    " 파이썬에 내장된 표준 GUI 라이브러리\n",
    "    ㄴ label, button, Entry, Frame\n",
    "        ㄴ 이벤트 등록을 통해 이벤트에 대한 처리 및 실행됨\n",
    "        \n",
    "    # 텍스트 계산기 만들기"
   ]
  },
  {
   "cell_type": "code",
   "execution_count": null,
   "id": "a6807443",
   "metadata": {},
   "outputs": [],
   "source": []
  },
  {
   "cell_type": "code",
   "execution_count": null,
   "id": "92d46718",
   "metadata": {},
   "outputs": [],
   "source": []
  }
 ],
 "metadata": {
  "kernelspec": {
   "display_name": "Python 3 (ipykernel)",
   "language": "python",
   "name": "python3"
  },
  "language_info": {
   "codemirror_mode": {
    "name": "ipython",
    "version": 3
   },
   "file_extension": ".py",
   "mimetype": "text/x-python",
   "name": "python",
   "nbconvert_exporter": "python",
   "pygments_lexer": "ipython3",
   "version": "3.8.13"
  }
 },
 "nbformat": 4,
 "nbformat_minor": 5
}
